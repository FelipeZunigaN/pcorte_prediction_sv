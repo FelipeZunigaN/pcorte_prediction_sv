{
 "cells": [
  {
   "cell_type": "code",
   "execution_count": 18,
   "metadata": {},
   "outputs": [],
   "source": [
    "%reload_ext autoreload\n",
    "%autoreload 2\n",
    "%run ../src/path.py\n"
   ]
  },
  {
   "cell_type": "code",
   "execution_count": 1,
   "metadata": {},
   "outputs": [],
   "source": [
    "import pandas as pd\n",
    "import numpy as np\n",
    "import matplotlib.pyplot as plt\n",
    "import seaborn as sns"
   ]
  },
  {
   "cell_type": "markdown",
   "metadata": {},
   "source": [
    "### Data Poza de Corte"
   ]
  },
  {
   "cell_type": "code",
   "execution_count": 62,
   "metadata": {},
   "outputs": [],
   "source": [
    "pcorte = pd.read_excel(RAW_DATA_DIR / 'Datos.xlsx', sheet_name='P.corte')\n",
    "pcorte = pcorte[pcorte.Fecha >= '2022-01-01']\n",
    "pcorte = pcorte[['Fecha','NaNO3','K', 'MgL','Nivel Sol. Libre cm','Flujo salida', 'Ley bandeja %NaNO3']]"
   ]
  },
  {
   "cell_type": "code",
   "execution_count": 67,
   "metadata": {},
   "outputs": [
    {
     "data": {
      "text/plain": [
       "Fecha                   0\n",
       "NaNO3                   0\n",
       "K                       0\n",
       "MgL                     0\n",
       "Nivel Sol. Libre cm    38\n",
       "Flujo salida            0\n",
       "Ley bandeja %NaNO3      0\n",
       "dtype: int64"
      ]
     },
     "execution_count": 67,
     "metadata": {},
     "output_type": "execute_result"
    }
   ],
   "source": [
    "pcorte.isnull().sum()"
   ]
  },
  {
   "cell_type": "code",
   "execution_count": 64,
   "metadata": {},
   "outputs": [],
   "source": [
    "pcorte = pcorte[~pcorte['Ley bandeja %NaNO3'].isna()]"
   ]
  },
  {
   "cell_type": "code",
   "execution_count": 30,
   "metadata": {},
   "outputs": [],
   "source": [
    "# for index in pcorte[pcorte['Flujo salida'].isnull()].index[8:]:\n",
    "#     print(pcorte.loc[[index-2, index-1, index, index+1, index+2]])\n",
    "#     print('\\n')"
   ]
  },
  {
   "cell_type": "code",
   "execution_count": 66,
   "metadata": {},
   "outputs": [],
   "source": [
    "pcorte['Flujo salida'] = pcorte['Flujo salida'].interpolate()\n",
    "\n",
    "# for index in pcorte[pcorte['Flujo salida'].isnull()].index[8:]:\n",
    "#     print(pcorte['Flujo salida'].interpolate().loc[[index-2, index-1, index, index+1, index+2]])\n",
    "#     print('\\n')"
   ]
  },
  {
   "cell_type": "code",
   "execution_count": 32,
   "metadata": {},
   "outputs": [],
   "source": [
    "# sns.scatterplot(pcorte, x='Flujo salida', y='Ley bandeja %NaNO3')"
   ]
  },
  {
   "cell_type": "code",
   "execution_count": 33,
   "metadata": {},
   "outputs": [],
   "source": [
    "# sns.scatterplot(pcorte, x='NaNO3', y='Ley bandeja %NaNO3')"
   ]
  },
  {
   "cell_type": "markdown",
   "metadata": {},
   "source": [
    "### Data Temperaturas"
   ]
  },
  {
   "cell_type": "code",
   "execution_count": 68,
   "metadata": {},
   "outputs": [
    {
     "data": {
      "text/html": [
       "<div>\n",
       "<style scoped>\n",
       "    .dataframe tbody tr th:only-of-type {\n",
       "        vertical-align: middle;\n",
       "    }\n",
       "\n",
       "    .dataframe tbody tr th {\n",
       "        vertical-align: top;\n",
       "    }\n",
       "\n",
       "    .dataframe thead th {\n",
       "        text-align: right;\n",
       "    }\n",
       "</style>\n",
       "<table border=\"1\" class=\"dataframe\">\n",
       "  <thead>\n",
       "    <tr style=\"text-align: right;\">\n",
       "      <th></th>\n",
       "      <th>Tiempo</th>\n",
       "      <th>Temperatura</th>\n",
       "      <th>Semana</th>\n",
       "      <th>dia</th>\n",
       "      <th>mes</th>\n",
       "    </tr>\n",
       "  </thead>\n",
       "  <tbody>\n",
       "    <tr>\n",
       "      <th>0</th>\n",
       "      <td>2022-01-01 10:01:00</td>\n",
       "      <td>23.5</td>\n",
       "      <td>1</td>\n",
       "      <td>1</td>\n",
       "      <td>1</td>\n",
       "    </tr>\n",
       "    <tr>\n",
       "      <th>1</th>\n",
       "      <td>2022-01-01 10:16:00</td>\n",
       "      <td>25.5</td>\n",
       "      <td>1</td>\n",
       "      <td>1</td>\n",
       "      <td>1</td>\n",
       "    </tr>\n",
       "  </tbody>\n",
       "</table>\n",
       "</div>"
      ],
      "text/plain": [
       "               Tiempo  Temperatura  Semana  dia  mes\n",
       "0 2022-01-01 10:01:00         23.5       1    1    1\n",
       "1 2022-01-01 10:16:00         25.5       1    1    1"
      ]
     },
     "execution_count": 68,
     "metadata": {},
     "output_type": "execute_result"
    }
   ],
   "source": [
    "temp = pd.read_excel(RAW_DATA_DIR / 'Datos.xlsx', sheet_name='T° P Corte')\n",
    "temp.head(2)"
   ]
  },
  {
   "cell_type": "code",
   "execution_count": 69,
   "metadata": {},
   "outputs": [
    {
     "name": "stdout",
     "output_type": "stream",
     "text": [
      "<class 'pandas.core.frame.DataFrame'>\n",
      "RangeIndex: 71789 entries, 0 to 71788\n",
      "Data columns (total 5 columns):\n",
      " #   Column       Non-Null Count  Dtype         \n",
      "---  ------       --------------  -----         \n",
      " 0   Tiempo       71789 non-null  datetime64[ns]\n",
      " 1   Temperatura  71789 non-null  float64       \n",
      " 2   Semana       71789 non-null  int64         \n",
      " 3   dia          71789 non-null  int64         \n",
      " 4   mes          71789 non-null  int64         \n",
      "dtypes: datetime64[ns](1), float64(1), int64(3)\n",
      "memory usage: 2.7 MB\n"
     ]
    }
   ],
   "source": [
    "temp.info()"
   ]
  },
  {
   "cell_type": "code",
   "execution_count": 70,
   "metadata": {},
   "outputs": [],
   "source": [
    "temp_dia = temp.set_index('Tiempo').resample('D').mean()\n",
    "temp_dia = temp_dia.reset_index()"
   ]
  },
  {
   "cell_type": "markdown",
   "metadata": {},
   "source": [
    "### Punto Saturación Estimada"
   ]
  },
  {
   "cell_type": "code",
   "execution_count": 71,
   "metadata": {},
   "outputs": [
    {
     "data": {
      "text/html": [
       "<div>\n",
       "<style scoped>\n",
       "    .dataframe tbody tr th:only-of-type {\n",
       "        vertical-align: middle;\n",
       "    }\n",
       "\n",
       "    .dataframe tbody tr th {\n",
       "        vertical-align: top;\n",
       "    }\n",
       "\n",
       "    .dataframe thead th {\n",
       "        text-align: right;\n",
       "    }\n",
       "</style>\n",
       "<table border=\"1\" class=\"dataframe\">\n",
       "  <thead>\n",
       "    <tr style=\"text-align: right;\">\n",
       "      <th>1</th>\n",
       "      <th>Fechas</th>\n",
       "      <th>Sat calculada</th>\n",
       "      <th>Sat semanal</th>\n",
       "    </tr>\n",
       "  </thead>\n",
       "  <tbody>\n",
       "    <tr>\n",
       "      <th>1505</th>\n",
       "      <td>2024-02-14</td>\n",
       "      <td>443.0</td>\n",
       "      <td>458.0</td>\n",
       "    </tr>\n",
       "    <tr>\n",
       "      <th>1506</th>\n",
       "      <td>2024-02-15</td>\n",
       "      <td>438.0</td>\n",
       "      <td>458.0</td>\n",
       "    </tr>\n",
       "    <tr>\n",
       "      <th>1507</th>\n",
       "      <td>2024-02-16</td>\n",
       "      <td>433.0</td>\n",
       "      <td>458.0</td>\n",
       "    </tr>\n",
       "    <tr>\n",
       "      <th>1508</th>\n",
       "      <td>2024-02-17</td>\n",
       "      <td>428.0</td>\n",
       "      <td>458.0</td>\n",
       "    </tr>\n",
       "    <tr>\n",
       "      <th>1509</th>\n",
       "      <td>2024-02-18</td>\n",
       "      <td>423.0</td>\n",
       "      <td>423.0</td>\n",
       "    </tr>\n",
       "  </tbody>\n",
       "</table>\n",
       "</div>"
      ],
      "text/plain": [
       "1        Fechas  Sat calculada  Sat semanal\n",
       "1505 2024-02-14          443.0        458.0\n",
       "1506 2024-02-15          438.0        458.0\n",
       "1507 2024-02-16          433.0        458.0\n",
       "1508 2024-02-17          428.0        458.0\n",
       "1509 2024-02-18          423.0        423.0"
      ]
     },
     "execution_count": 71,
     "metadata": {},
     "output_type": "execute_result"
    }
   ],
   "source": [
    "pto_sat = pd.read_excel(RAW_DATA_DIR / 'Datos.xlsx', sheet_name='pto sat')\n",
    "pto_sat.columns =  pto_sat.loc[1]\n",
    "pto_sat = pto_sat.iloc[2:]\n",
    "pto_sat = pto_sat[['Fechas','Sat calculada','Sat semanal']]\n",
    "pto_sat['Fechas'] = pd.to_datetime(pto_sat['Fechas'])\n",
    "pto_sat[['Sat calculada','Sat semanal']] = pto_sat[['Sat calculada','Sat semanal']].astype(float)\n",
    "pto_sat = pto_sat[pto_sat['Fechas'] <= '2024-02-18 ']\n",
    "pto_sat['Sat calculada'] = pto_sat['Sat calculada'].interpolate()\n",
    "pto_sat.tail()"
   ]
  },
  {
   "cell_type": "markdown",
   "metadata": {},
   "source": [
    "### Unión Data"
   ]
  },
  {
   "cell_type": "code",
   "execution_count": 72,
   "metadata": {},
   "outputs": [
    {
     "data": {
      "text/html": [
       "<div>\n",
       "<style scoped>\n",
       "    .dataframe tbody tr th:only-of-type {\n",
       "        vertical-align: middle;\n",
       "    }\n",
       "\n",
       "    .dataframe tbody tr th {\n",
       "        vertical-align: top;\n",
       "    }\n",
       "\n",
       "    .dataframe thead th {\n",
       "        text-align: right;\n",
       "    }\n",
       "</style>\n",
       "<table border=\"1\" class=\"dataframe\">\n",
       "  <thead>\n",
       "    <tr style=\"text-align: right;\">\n",
       "      <th></th>\n",
       "      <th>Fecha</th>\n",
       "      <th>NaNO3</th>\n",
       "      <th>K</th>\n",
       "      <th>MgL</th>\n",
       "      <th>Nivel Sol. Libre cm</th>\n",
       "      <th>Flujo salida</th>\n",
       "      <th>Ley bandeja %NaNO3</th>\n",
       "      <th>Temperatura</th>\n",
       "      <th>Semana</th>\n",
       "      <th>dia</th>\n",
       "      <th>mes</th>\n",
       "      <th>Sat calculada</th>\n",
       "      <th>Sat semanal</th>\n",
       "    </tr>\n",
       "  </thead>\n",
       "  <tbody>\n",
       "    <tr>\n",
       "      <th>0</th>\n",
       "      <td>2022-01-01</td>\n",
       "      <td>432.0</td>\n",
       "      <td>50.0</td>\n",
       "      <td>20.070085</td>\n",
       "      <td>NaN</td>\n",
       "      <td>6574.0</td>\n",
       "      <td>3.0</td>\n",
       "      <td>29.866071</td>\n",
       "      <td>1.0</td>\n",
       "      <td>1.0</td>\n",
       "      <td>1.0</td>\n",
       "      <td>448.000000</td>\n",
       "      <td>448.0</td>\n",
       "    </tr>\n",
       "    <tr>\n",
       "      <th>1</th>\n",
       "      <td>2022-01-02</td>\n",
       "      <td>430.0</td>\n",
       "      <td>50.0</td>\n",
       "      <td>19.984615</td>\n",
       "      <td>NaN</td>\n",
       "      <td>6579.0</td>\n",
       "      <td>4.9</td>\n",
       "      <td>28.098958</td>\n",
       "      <td>2.0</td>\n",
       "      <td>2.0</td>\n",
       "      <td>1.0</td>\n",
       "      <td>449.333333</td>\n",
       "      <td>448.0</td>\n",
       "    </tr>\n",
       "    <tr>\n",
       "      <th>2</th>\n",
       "      <td>2022-01-03</td>\n",
       "      <td>432.0</td>\n",
       "      <td>51.0</td>\n",
       "      <td>19.984615</td>\n",
       "      <td>NaN</td>\n",
       "      <td>6575.0</td>\n",
       "      <td>4.9</td>\n",
       "      <td>28.567708</td>\n",
       "      <td>2.0</td>\n",
       "      <td>3.0</td>\n",
       "      <td>1.0</td>\n",
       "      <td>450.666667</td>\n",
       "      <td>448.0</td>\n",
       "    </tr>\n",
       "    <tr>\n",
       "      <th>3</th>\n",
       "      <td>2022-01-04</td>\n",
       "      <td>427.0</td>\n",
       "      <td>51.0</td>\n",
       "      <td>20.442735</td>\n",
       "      <td>NaN</td>\n",
       "      <td>6571.0</td>\n",
       "      <td>4.9</td>\n",
       "      <td>28.072917</td>\n",
       "      <td>2.0</td>\n",
       "      <td>4.0</td>\n",
       "      <td>1.0</td>\n",
       "      <td>452.000000</td>\n",
       "      <td>452.0</td>\n",
       "    </tr>\n",
       "    <tr>\n",
       "      <th>4</th>\n",
       "      <td>2022-01-05</td>\n",
       "      <td>407.0</td>\n",
       "      <td>0.0</td>\n",
       "      <td>22.013675</td>\n",
       "      <td>NaN</td>\n",
       "      <td>6557.0</td>\n",
       "      <td>3.9</td>\n",
       "      <td>27.963542</td>\n",
       "      <td>2.0</td>\n",
       "      <td>5.0</td>\n",
       "      <td>1.0</td>\n",
       "      <td>452.161290</td>\n",
       "      <td>452.0</td>\n",
       "    </tr>\n",
       "    <tr>\n",
       "      <th>...</th>\n",
       "      <td>...</td>\n",
       "      <td>...</td>\n",
       "      <td>...</td>\n",
       "      <td>...</td>\n",
       "      <td>...</td>\n",
       "      <td>...</td>\n",
       "      <td>...</td>\n",
       "      <td>...</td>\n",
       "      <td>...</td>\n",
       "      <td>...</td>\n",
       "      <td>...</td>\n",
       "      <td>...</td>\n",
       "      <td>...</td>\n",
       "    </tr>\n",
       "    <tr>\n",
       "      <th>763</th>\n",
       "      <td>2024-02-03</td>\n",
       "      <td>446.0</td>\n",
       "      <td>42.0</td>\n",
       "      <td>27.324786</td>\n",
       "      <td>64.7</td>\n",
       "      <td>6983.0</td>\n",
       "      <td>26.6</td>\n",
       "      <td>29.458333</td>\n",
       "      <td>5.0</td>\n",
       "      <td>3.0</td>\n",
       "      <td>2.0</td>\n",
       "      <td>424.000000</td>\n",
       "      <td>424.0</td>\n",
       "    </tr>\n",
       "    <tr>\n",
       "      <th>764</th>\n",
       "      <td>2024-02-04</td>\n",
       "      <td>452.0</td>\n",
       "      <td>45.0</td>\n",
       "      <td>27.153846</td>\n",
       "      <td>59.5</td>\n",
       "      <td>6835.0</td>\n",
       "      <td>26.6</td>\n",
       "      <td>31.509615</td>\n",
       "      <td>6.0</td>\n",
       "      <td>4.0</td>\n",
       "      <td>2.0</td>\n",
       "      <td>428.250000</td>\n",
       "      <td>424.0</td>\n",
       "    </tr>\n",
       "    <tr>\n",
       "      <th>765</th>\n",
       "      <td>2024-02-05</td>\n",
       "      <td>452.0</td>\n",
       "      <td>44.0</td>\n",
       "      <td>26.982906</td>\n",
       "      <td>60.4</td>\n",
       "      <td>6944.0</td>\n",
       "      <td>26.6</td>\n",
       "      <td>31.843750</td>\n",
       "      <td>6.0</td>\n",
       "      <td>5.0</td>\n",
       "      <td>2.0</td>\n",
       "      <td>432.500000</td>\n",
       "      <td>424.0</td>\n",
       "    </tr>\n",
       "    <tr>\n",
       "      <th>766</th>\n",
       "      <td>2024-02-06</td>\n",
       "      <td>450.0</td>\n",
       "      <td>43.0</td>\n",
       "      <td>27.153846</td>\n",
       "      <td>NaN</td>\n",
       "      <td>6954.0</td>\n",
       "      <td>0.0</td>\n",
       "      <td>31.864583</td>\n",
       "      <td>6.0</td>\n",
       "      <td>6.0</td>\n",
       "      <td>2.0</td>\n",
       "      <td>436.750000</td>\n",
       "      <td>424.0</td>\n",
       "    </tr>\n",
       "    <tr>\n",
       "      <th>767</th>\n",
       "      <td>2024-02-07</td>\n",
       "      <td>450.0</td>\n",
       "      <td>44.0</td>\n",
       "      <td>28.324786</td>\n",
       "      <td>NaN</td>\n",
       "      <td>7381.0</td>\n",
       "      <td>0.0</td>\n",
       "      <td>31.953125</td>\n",
       "      <td>6.0</td>\n",
       "      <td>7.0</td>\n",
       "      <td>2.0</td>\n",
       "      <td>441.000000</td>\n",
       "      <td>424.0</td>\n",
       "    </tr>\n",
       "  </tbody>\n",
       "</table>\n",
       "<p>768 rows × 13 columns</p>\n",
       "</div>"
      ],
      "text/plain": [
       "         Fecha  NaNO3     K        MgL Nivel Sol. Libre cm  Flujo salida  \\\n",
       "0   2022-01-01  432.0  50.0  20.070085                 NaN        6574.0   \n",
       "1   2022-01-02  430.0  50.0  19.984615                 NaN        6579.0   \n",
       "2   2022-01-03  432.0  51.0  19.984615                 NaN        6575.0   \n",
       "3   2022-01-04  427.0  51.0  20.442735                 NaN        6571.0   \n",
       "4   2022-01-05  407.0   0.0  22.013675                 NaN        6557.0   \n",
       "..         ...    ...   ...        ...                 ...           ...   \n",
       "763 2024-02-03  446.0  42.0  27.324786                64.7        6983.0   \n",
       "764 2024-02-04  452.0  45.0  27.153846                59.5        6835.0   \n",
       "765 2024-02-05  452.0  44.0  26.982906                60.4        6944.0   \n",
       "766 2024-02-06  450.0  43.0  27.153846                 NaN        6954.0   \n",
       "767 2024-02-07  450.0  44.0  28.324786                 NaN        7381.0   \n",
       "\n",
       "     Ley bandeja %NaNO3  Temperatura  Semana  dia  mes  Sat calculada  \\\n",
       "0                   3.0    29.866071     1.0  1.0  1.0     448.000000   \n",
       "1                   4.9    28.098958     2.0  2.0  1.0     449.333333   \n",
       "2                   4.9    28.567708     2.0  3.0  1.0     450.666667   \n",
       "3                   4.9    28.072917     2.0  4.0  1.0     452.000000   \n",
       "4                   3.9    27.963542     2.0  5.0  1.0     452.161290   \n",
       "..                  ...          ...     ...  ...  ...            ...   \n",
       "763                26.6    29.458333     5.0  3.0  2.0     424.000000   \n",
       "764                26.6    31.509615     6.0  4.0  2.0     428.250000   \n",
       "765                26.6    31.843750     6.0  5.0  2.0     432.500000   \n",
       "766                 0.0    31.864583     6.0  6.0  2.0     436.750000   \n",
       "767                 0.0    31.953125     6.0  7.0  2.0     441.000000   \n",
       "\n",
       "     Sat semanal  \n",
       "0          448.0  \n",
       "1          448.0  \n",
       "2          448.0  \n",
       "3          452.0  \n",
       "4          452.0  \n",
       "..           ...  \n",
       "763        424.0  \n",
       "764        424.0  \n",
       "765        424.0  \n",
       "766        424.0  \n",
       "767        424.0  \n",
       "\n",
       "[768 rows x 13 columns]"
      ]
     },
     "execution_count": 72,
     "metadata": {},
     "output_type": "execute_result"
    }
   ],
   "source": [
    "data_total = pd.merge(pcorte, temp_dia, left_on='Fecha', right_on='Tiempo')\n",
    "data_total = data_total.drop('Tiempo', axis=1)\n",
    "\n",
    "data_total = pd.merge(data_total, pto_sat, left_on='Fecha', right_on='Fechas')\n",
    "data_total = data_total.drop('Fechas', axis=1)\n",
    "data_total"
   ]
  },
  {
   "cell_type": "code",
   "execution_count": 73,
   "metadata": {},
   "outputs": [
    {
     "data": {
      "text/plain": [
       "Index([  0,   1,   2,   3,   4,   5,   6,   7,   8,   9,  10,  11,  12,  13,\n",
       "        14,  15,  16,  17,  18,  19,  20,  21,  22,  23,  24,  25,  26,  27,\n",
       "        28,  29,  30,  31,  93,  94,  95,  96,  97,  98,  99, 128, 129, 130,\n",
       "       131, 132, 133, 134, 170, 171, 172, 173, 174, 175, 184, 185, 186, 187,\n",
       "       188, 189, 228, 230, 232, 240, 241, 242, 243, 244, 245, 253, 350, 513,\n",
       "       766, 767],\n",
       "      dtype='int64')"
      ]
     },
     "execution_count": 73,
     "metadata": {},
     "output_type": "execute_result"
    }
   ],
   "source": [
    "null_indexs = data_total[data_total.isna().any(axis=1)].index\n",
    "null_indexs"
   ]
  },
  {
   "cell_type": "code",
   "execution_count": 74,
   "metadata": {},
   "outputs": [],
   "source": [
    "# for i in null_indexs:\n",
    "#     print(data_total.loc[[i-1, i, i+1, i+2]]['Temperatura'])"
   ]
  },
  {
   "cell_type": "code",
   "execution_count": 75,
   "metadata": {},
   "outputs": [],
   "source": [
    "data_total['Temperatura'] = data_total['Temperatura'].interpolate()\n",
    "# data_total.iloc[null_indexs]"
   ]
  },
  {
   "cell_type": "code",
   "execution_count": 76,
   "metadata": {},
   "outputs": [
    {
     "data": {
      "text/html": [
       "<div>\n",
       "<style scoped>\n",
       "    .dataframe tbody tr th:only-of-type {\n",
       "        vertical-align: middle;\n",
       "    }\n",
       "\n",
       "    .dataframe tbody tr th {\n",
       "        vertical-align: top;\n",
       "    }\n",
       "\n",
       "    .dataframe thead th {\n",
       "        text-align: right;\n",
       "    }\n",
       "</style>\n",
       "<table border=\"1\" class=\"dataframe\">\n",
       "  <thead>\n",
       "    <tr style=\"text-align: right;\">\n",
       "      <th></th>\n",
       "      <th>Fecha</th>\n",
       "      <th>NaNO3</th>\n",
       "      <th>K</th>\n",
       "      <th>MgL</th>\n",
       "      <th>Nivel Sol. Libre cm</th>\n",
       "      <th>Flujo salida</th>\n",
       "      <th>Ley bandeja %NaNO3</th>\n",
       "      <th>Temperatura</th>\n",
       "      <th>Semana</th>\n",
       "      <th>dia</th>\n",
       "      <th>mes</th>\n",
       "      <th>Sat calculada</th>\n",
       "      <th>Sat semanal</th>\n",
       "    </tr>\n",
       "  </thead>\n",
       "  <tbody>\n",
       "    <tr>\n",
       "      <th>0</th>\n",
       "      <td>2022-01-01</td>\n",
       "      <td>432.0</td>\n",
       "      <td>50.0</td>\n",
       "      <td>20.070085</td>\n",
       "      <td>NaN</td>\n",
       "      <td>6574.0</td>\n",
       "      <td>3.0</td>\n",
       "      <td>29.866071</td>\n",
       "      <td>52</td>\n",
       "      <td>1</td>\n",
       "      <td>1</td>\n",
       "      <td>448.000000</td>\n",
       "      <td>448.0</td>\n",
       "    </tr>\n",
       "    <tr>\n",
       "      <th>1</th>\n",
       "      <td>2022-01-02</td>\n",
       "      <td>430.0</td>\n",
       "      <td>50.0</td>\n",
       "      <td>19.984615</td>\n",
       "      <td>NaN</td>\n",
       "      <td>6579.0</td>\n",
       "      <td>4.9</td>\n",
       "      <td>28.098958</td>\n",
       "      <td>52</td>\n",
       "      <td>2</td>\n",
       "      <td>1</td>\n",
       "      <td>449.333333</td>\n",
       "      <td>448.0</td>\n",
       "    </tr>\n",
       "  </tbody>\n",
       "</table>\n",
       "</div>"
      ],
      "text/plain": [
       "       Fecha  NaNO3     K        MgL Nivel Sol. Libre cm  Flujo salida  \\\n",
       "0 2022-01-01  432.0  50.0  20.070085                 NaN        6574.0   \n",
       "1 2022-01-02  430.0  50.0  19.984615                 NaN        6579.0   \n",
       "\n",
       "   Ley bandeja %NaNO3  Temperatura  Semana  dia  mes  Sat calculada  \\\n",
       "0                 3.0    29.866071      52    1    1     448.000000   \n",
       "1                 4.9    28.098958      52    2    1     449.333333   \n",
       "\n",
       "   Sat semanal  \n",
       "0        448.0  \n",
       "1        448.0  "
      ]
     },
     "execution_count": 76,
     "metadata": {},
     "output_type": "execute_result"
    }
   ],
   "source": [
    "data_total['dia'] = data_total['Fecha'].apply(lambda x: x.day)\n",
    "data_total['mes'] = data_total['Fecha'].apply(lambda x: x.month)\n",
    "data_total['Semana'] = data_total['Fecha'].apply(lambda x: x.week)\n",
    "data_total.head(2)"
   ]
  },
  {
   "cell_type": "code",
   "execution_count": 77,
   "metadata": {},
   "outputs": [],
   "source": [
    "data_total.to_excel(TRANSFORMED_DATA_DIR / 'data_transformed.xlsx', index=False)"
   ]
  },
  {
   "cell_type": "code",
   "execution_count": null,
   "metadata": {},
   "outputs": [],
   "source": []
  }
 ],
 "metadata": {
  "kernelspec": {
   "display_name": "venv",
   "language": "python",
   "name": "python3"
  },
  "language_info": {
   "codemirror_mode": {
    "name": "ipython",
    "version": 3
   },
   "file_extension": ".py",
   "mimetype": "text/x-python",
   "name": "python",
   "nbconvert_exporter": "python",
   "pygments_lexer": "ipython3",
   "version": "3.11.6"
  }
 },
 "nbformat": 4,
 "nbformat_minor": 2
}
